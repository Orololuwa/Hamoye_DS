{
    "cells": [
        {
            "cell_type": "code",
            "execution_count": 26,
            "metadata": {},
            "outputs": [],
            "source": "import pandas as pd"
        },
        {
            "cell_type": "code",
            "execution_count": 27,
            "metadata": {},
            "outputs": [],
            "source": "ham_df = pd.read_csv('https://raw.githubusercontent.com/WalePhenomenon/climate_change/master/fuel_ferc1.csv')"
        },
        {
            "cell_type": "code",
            "execution_count": 28,
            "metadata": {},
            "outputs": [
                {
                    "data": {
                        "text/html": "<div>\n<style scoped>\n    .dataframe tbody tr th:only-of-type {\n        vertical-align: middle;\n    }\n\n    .dataframe tbody tr th {\n        vertical-align: top;\n    }\n\n    .dataframe thead th {\n        text-align: right;\n    }\n</style>\n<table border=\"1\" class=\"dataframe\">\n  <thead>\n    <tr style=\"text-align: right;\">\n      <th></th>\n      <th>utility_id_ferc1</th>\n      <th>report_year</th>\n      <th>fuel_qty_burned</th>\n      <th>fuel_mmbtu_per_unit</th>\n      <th>fuel_cost_per_unit_burned</th>\n      <th>fuel_cost_per_unit_delivered</th>\n      <th>fuel_cost_per_mmbtu</th>\n    </tr>\n  </thead>\n  <tbody>\n    <tr>\n      <th>count</th>\n      <td>29523.000000</td>\n      <td>29523.000000</td>\n      <td>2.952300e+04</td>\n      <td>29523.000000</td>\n      <td>29523.000000</td>\n      <td>2.952300e+04</td>\n      <td>29523.000000</td>\n    </tr>\n    <tr>\n      <th>mean</th>\n      <td>118.601836</td>\n      <td>2005.806050</td>\n      <td>2.622119e+06</td>\n      <td>8.492111</td>\n      <td>208.649031</td>\n      <td>9.175704e+02</td>\n      <td>19.304354</td>\n    </tr>\n    <tr>\n      <th>std</th>\n      <td>74.178353</td>\n      <td>7.025483</td>\n      <td>9.118004e+06</td>\n      <td>10.600220</td>\n      <td>2854.490090</td>\n      <td>6.877593e+04</td>\n      <td>2091.540939</td>\n    </tr>\n    <tr>\n      <th>min</th>\n      <td>1.000000</td>\n      <td>1994.000000</td>\n      <td>1.000000e+00</td>\n      <td>0.000001</td>\n      <td>-276.080000</td>\n      <td>-8.749370e+02</td>\n      <td>-41.501000</td>\n    </tr>\n    <tr>\n      <th>25%</th>\n      <td>55.000000</td>\n      <td>2000.000000</td>\n      <td>1.381700e+04</td>\n      <td>1.024000</td>\n      <td>5.207000</td>\n      <td>3.778500e+00</td>\n      <td>1.940000</td>\n    </tr>\n    <tr>\n      <th>50%</th>\n      <td>122.000000</td>\n      <td>2006.000000</td>\n      <td>2.533220e+05</td>\n      <td>5.762694</td>\n      <td>26.000000</td>\n      <td>1.737100e+01</td>\n      <td>4.127000</td>\n    </tr>\n    <tr>\n      <th>75%</th>\n      <td>176.000000</td>\n      <td>2012.000000</td>\n      <td>1.424034e+06</td>\n      <td>17.006000</td>\n      <td>47.113000</td>\n      <td>4.213700e+01</td>\n      <td>7.745000</td>\n    </tr>\n    <tr>\n      <th>max</th>\n      <td>514.000000</td>\n      <td>2018.000000</td>\n      <td>5.558942e+08</td>\n      <td>341.260000</td>\n      <td>139358.000000</td>\n      <td>7.964521e+06</td>\n      <td>359278.000000</td>\n    </tr>\n  </tbody>\n</table>\n</div>",
                        "text/plain": "       utility_id_ferc1   report_year  fuel_qty_burned  fuel_mmbtu_per_unit  \\\ncount      29523.000000  29523.000000     2.952300e+04         29523.000000   \nmean         118.601836   2005.806050     2.622119e+06             8.492111   \nstd           74.178353      7.025483     9.118004e+06            10.600220   \nmin            1.000000   1994.000000     1.000000e+00             0.000001   \n25%           55.000000   2000.000000     1.381700e+04             1.024000   \n50%          122.000000   2006.000000     2.533220e+05             5.762694   \n75%          176.000000   2012.000000     1.424034e+06            17.006000   \nmax          514.000000   2018.000000     5.558942e+08           341.260000   \n\n       fuel_cost_per_unit_burned  fuel_cost_per_unit_delivered  \\\ncount               29523.000000                  2.952300e+04   \nmean                  208.649031                  9.175704e+02   \nstd                  2854.490090                  6.877593e+04   \nmin                  -276.080000                 -8.749370e+02   \n25%                     5.207000                  3.778500e+00   \n50%                    26.000000                  1.737100e+01   \n75%                    47.113000                  4.213700e+01   \nmax                139358.000000                  7.964521e+06   \n\n       fuel_cost_per_mmbtu  \ncount         29523.000000  \nmean             19.304354  \nstd            2091.540939  \nmin             -41.501000  \n25%               1.940000  \n50%               4.127000  \n75%               7.745000  \nmax          359278.000000  "
                    },
                    "execution_count": 28,
                    "metadata": {},
                    "output_type": "execute_result"
                }
            ],
            "source": "ham_df.describe()"
        },
        {
            "cell_type": "code",
            "execution_count": 29,
            "metadata": {},
            "outputs": [
                {
                    "data": {
                        "text/plain": "record_id                       29523\nutility_id_ferc1                29523\nreport_year                     29523\nplant_name_ferc1                29523\nfuel_type_code_pudl             29523\nfuel_unit                       29523\nfuel_qty_burned                 29523\nfuel_mmbtu_per_unit             29523\nfuel_cost_per_unit_burned       29523\nfuel_cost_per_unit_delivered    29523\nfuel_cost_per_mmbtu             29523\ndtype: int64"
                    },
                    "execution_count": 29,
                    "metadata": {},
                    "output_type": "execute_result"
                }
            ],
            "source": "ham_df.isnull().count()"
        },
        {
            "cell_type": "code",
            "execution_count": 30,
            "metadata": {},
            "outputs": [
                {
                    "data": {
                        "text/html": "<div>\n<style scoped>\n    .dataframe tbody tr th:only-of-type {\n        vertical-align: middle;\n    }\n\n    .dataframe tbody tr th {\n        vertical-align: top;\n    }\n\n    .dataframe thead th {\n        text-align: right;\n    }\n</style>\n<table border=\"1\" class=\"dataframe\">\n  <thead>\n    <tr style=\"text-align: right;\">\n      <th></th>\n      <th>record_id</th>\n      <th>utility_id_ferc1</th>\n      <th>report_year</th>\n      <th>plant_name_ferc1</th>\n      <th>fuel_type_code_pudl</th>\n      <th>fuel_unit</th>\n      <th>fuel_qty_burned</th>\n      <th>fuel_mmbtu_per_unit</th>\n      <th>fuel_cost_per_unit_burned</th>\n      <th>fuel_cost_per_unit_delivered</th>\n      <th>fuel_cost_per_mmbtu</th>\n    </tr>\n  </thead>\n  <tbody>\n    <tr>\n      <th>0</th>\n      <td>f1_fuel_1994_12_1_0_7</td>\n      <td>1</td>\n      <td>1994</td>\n      <td>rockport</td>\n      <td>coal</td>\n      <td>ton</td>\n      <td>5377489.0</td>\n      <td>16.590</td>\n      <td>18.59</td>\n      <td>18.53</td>\n      <td>1.121</td>\n    </tr>\n    <tr>\n      <th>1</th>\n      <td>f1_fuel_1994_12_1_0_10</td>\n      <td>1</td>\n      <td>1994</td>\n      <td>rockport total plant</td>\n      <td>coal</td>\n      <td>ton</td>\n      <td>10486945.0</td>\n      <td>16.592</td>\n      <td>18.58</td>\n      <td>18.53</td>\n      <td>1.120</td>\n    </tr>\n    <tr>\n      <th>2</th>\n      <td>f1_fuel_1994_12_2_0_1</td>\n      <td>2</td>\n      <td>1994</td>\n      <td>gorgas</td>\n      <td>coal</td>\n      <td>ton</td>\n      <td>2978683.0</td>\n      <td>24.130</td>\n      <td>39.72</td>\n      <td>38.12</td>\n      <td>1.650</td>\n    </tr>\n    <tr>\n      <th>3</th>\n      <td>f1_fuel_1994_12_2_0_7</td>\n      <td>2</td>\n      <td>1994</td>\n      <td>barry</td>\n      <td>coal</td>\n      <td>ton</td>\n      <td>3739484.0</td>\n      <td>23.950</td>\n      <td>47.21</td>\n      <td>45.99</td>\n      <td>1.970</td>\n    </tr>\n    <tr>\n      <th>4</th>\n      <td>f1_fuel_1994_12_2_0_10</td>\n      <td>2</td>\n      <td>1994</td>\n      <td>chickasaw</td>\n      <td>gas</td>\n      <td>mcf</td>\n      <td>40533.0</td>\n      <td>1.000</td>\n      <td>2.77</td>\n      <td>2.77</td>\n      <td>2.570</td>\n    </tr>\n  </tbody>\n</table>\n</div>",
                        "text/plain": "                record_id  utility_id_ferc1  report_year  \\\n0   f1_fuel_1994_12_1_0_7                 1         1994   \n1  f1_fuel_1994_12_1_0_10                 1         1994   \n2   f1_fuel_1994_12_2_0_1                 2         1994   \n3   f1_fuel_1994_12_2_0_7                 2         1994   \n4  f1_fuel_1994_12_2_0_10                 2         1994   \n\n       plant_name_ferc1 fuel_type_code_pudl fuel_unit  fuel_qty_burned  \\\n0              rockport                coal       ton        5377489.0   \n1  rockport total plant                coal       ton       10486945.0   \n2                gorgas                coal       ton        2978683.0   \n3                 barry                coal       ton        3739484.0   \n4             chickasaw                 gas       mcf          40533.0   \n\n   fuel_mmbtu_per_unit  fuel_cost_per_unit_burned  \\\n0               16.590                      18.59   \n1               16.592                      18.58   \n2               24.130                      39.72   \n3               23.950                      47.21   \n4                1.000                       2.77   \n\n   fuel_cost_per_unit_delivered  fuel_cost_per_mmbtu  \n0                         18.53                1.121  \n1                         18.53                1.120  \n2                         38.12                1.650  \n3                         45.99                1.970  \n4                          2.77                2.570  "
                    },
                    "execution_count": 30,
                    "metadata": {},
                    "output_type": "execute_result"
                }
            ],
            "source": "ham_df.head()"
        },
        {
            "cell_type": "code",
            "execution_count": 31,
            "metadata": {},
            "outputs": [
                {
                    "data": {
                        "text/html": "<div>\n<style scoped>\n    .dataframe tbody tr th:only-of-type {\n        vertical-align: middle;\n    }\n\n    .dataframe tbody tr th {\n        vertical-align: top;\n    }\n\n    .dataframe thead th {\n        text-align: right;\n    }\n</style>\n<table border=\"1\" class=\"dataframe\">\n  <thead>\n    <tr style=\"text-align: right;\">\n      <th></th>\n      <th>record_id</th>\n      <th>utility_id_ferc1</th>\n      <th>report_year</th>\n      <th>plant_name_ferc1</th>\n      <th>fuel_type_code_pudl</th>\n      <th>fuel_unit</th>\n      <th>fuel_qty_burned</th>\n      <th>fuel_mmbtu_per_unit</th>\n      <th>fuel_cost_per_unit_burned</th>\n      <th>fuel_cost_per_unit_delivered</th>\n      <th>fuel_cost_per_mmbtu</th>\n    </tr>\n  </thead>\n  <tbody>\n    <tr>\n      <th>29513</th>\n      <td>f1_fuel_2018_12_12_0_2</td>\n      <td>12</td>\n      <td>2018</td>\n      <td>ben french station</td>\n      <td>gas</td>\n      <td>mcf</td>\n      <td>39679.0</td>\n      <td>1.05900</td>\n      <td>5.68</td>\n      <td>5.68</td>\n      <td>5.36</td>\n    </tr>\n    <tr>\n      <th>29514</th>\n      <td>f1_fuel_2018_12_12_0_4</td>\n      <td>12</td>\n      <td>2018</td>\n      <td>ben french station</td>\n      <td>oil</td>\n      <td>bbl</td>\n      <td>487.0</td>\n      <td>5.83107</td>\n      <td>0.00</td>\n      <td>0.00</td>\n      <td>9.97</td>\n    </tr>\n    <tr>\n      <th>29515</th>\n      <td>f1_fuel_2018_12_12_0_7</td>\n      <td>12</td>\n      <td>2018</td>\n      <td>neil simpson unit 2</td>\n      <td>gas</td>\n      <td>mcf</td>\n      <td>18370.0</td>\n      <td>1.05900</td>\n      <td>8.33</td>\n      <td>8.33</td>\n      <td>15.93</td>\n    </tr>\n    <tr>\n      <th>29516</th>\n      <td>f1_fuel_2018_12_12_0_8</td>\n      <td>12</td>\n      <td>2018</td>\n      <td>neil simpson unit 2</td>\n      <td>coal</td>\n      <td>ton</td>\n      <td>491913.0</td>\n      <td>16.10000</td>\n      <td>14.76</td>\n      <td>17.72</td>\n      <td>1.10</td>\n    </tr>\n    <tr>\n      <th>29517</th>\n      <td>f1_fuel_2018_12_12_0_10</td>\n      <td>12</td>\n      <td>2018</td>\n      <td>wyodak - bhp 20%</td>\n      <td>coal</td>\n      <td>ton</td>\n      <td>409637.0</td>\n      <td>16.06800</td>\n      <td>13.69</td>\n      <td>14.31</td>\n      <td>0.89</td>\n    </tr>\n    <tr>\n      <th>29518</th>\n      <td>f1_fuel_2018_12_12_0_13</td>\n      <td>12</td>\n      <td>2018</td>\n      <td>neil simpson ct #1</td>\n      <td>gas</td>\n      <td>mcf</td>\n      <td>18799.0</td>\n      <td>1.05900</td>\n      <td>4.78</td>\n      <td>4.78</td>\n      <td>9.03</td>\n    </tr>\n    <tr>\n      <th>29519</th>\n      <td>f1_fuel_2018_12_12_1_1</td>\n      <td>12</td>\n      <td>2018</td>\n      <td>cheyenne prairie 58%</td>\n      <td>gas</td>\n      <td>mcf</td>\n      <td>806730.0</td>\n      <td>1.05000</td>\n      <td>3.65</td>\n      <td>3.65</td>\n      <td>6.95</td>\n    </tr>\n    <tr>\n      <th>29520</th>\n      <td>f1_fuel_2018_12_12_1_10</td>\n      <td>12</td>\n      <td>2018</td>\n      <td>lange ct facility</td>\n      <td>gas</td>\n      <td>mcf</td>\n      <td>104554.0</td>\n      <td>1.06000</td>\n      <td>4.77</td>\n      <td>4.77</td>\n      <td>8.99</td>\n    </tr>\n    <tr>\n      <th>29521</th>\n      <td>f1_fuel_2018_12_12_1_13</td>\n      <td>12</td>\n      <td>2018</td>\n      <td>wygen 3 bhp 52%</td>\n      <td>coal</td>\n      <td>ton</td>\n      <td>315945.0</td>\n      <td>16.10800</td>\n      <td>3.06</td>\n      <td>14.76</td>\n      <td>1.11</td>\n    </tr>\n    <tr>\n      <th>29522</th>\n      <td>f1_fuel_2018_12_12_1_14</td>\n      <td>12</td>\n      <td>2018</td>\n      <td>wygen 3 bhp 52%</td>\n      <td>gas</td>\n      <td>mcf</td>\n      <td>17853.0</td>\n      <td>1.05900</td>\n      <td>0.00</td>\n      <td>0.00</td>\n      <td>11.68</td>\n    </tr>\n  </tbody>\n</table>\n</div>",
                        "text/plain": "                     record_id  utility_id_ferc1  report_year  \\\n29513   f1_fuel_2018_12_12_0_2                12         2018   \n29514   f1_fuel_2018_12_12_0_4                12         2018   \n29515   f1_fuel_2018_12_12_0_7                12         2018   \n29516   f1_fuel_2018_12_12_0_8                12         2018   \n29517  f1_fuel_2018_12_12_0_10                12         2018   \n29518  f1_fuel_2018_12_12_0_13                12         2018   \n29519   f1_fuel_2018_12_12_1_1                12         2018   \n29520  f1_fuel_2018_12_12_1_10                12         2018   \n29521  f1_fuel_2018_12_12_1_13                12         2018   \n29522  f1_fuel_2018_12_12_1_14                12         2018   \n\n           plant_name_ferc1 fuel_type_code_pudl fuel_unit  fuel_qty_burned  \\\n29513    ben french station                 gas       mcf          39679.0   \n29514    ben french station                 oil       bbl            487.0   \n29515   neil simpson unit 2                 gas       mcf          18370.0   \n29516   neil simpson unit 2                coal       ton         491913.0   \n29517      wyodak - bhp 20%                coal       ton         409637.0   \n29518    neil simpson ct #1                 gas       mcf          18799.0   \n29519  cheyenne prairie 58%                 gas       mcf         806730.0   \n29520     lange ct facility                 gas       mcf         104554.0   \n29521       wygen 3 bhp 52%                coal       ton         315945.0   \n29522       wygen 3 bhp 52%                 gas       mcf          17853.0   \n\n       fuel_mmbtu_per_unit  fuel_cost_per_unit_burned  \\\n29513              1.05900                       5.68   \n29514              5.83107                       0.00   \n29515              1.05900                       8.33   \n29516             16.10000                      14.76   \n29517             16.06800                      13.69   \n29518              1.05900                       4.78   \n29519              1.05000                       3.65   \n29520              1.06000                       4.77   \n29521             16.10800                       3.06   \n29522              1.05900                       0.00   \n\n       fuel_cost_per_unit_delivered  fuel_cost_per_mmbtu  \n29513                          5.68                 5.36  \n29514                          0.00                 9.97  \n29515                          8.33                15.93  \n29516                         17.72                 1.10  \n29517                         14.31                 0.89  \n29518                          4.78                 9.03  \n29519                          3.65                 6.95  \n29520                          4.77                 8.99  \n29521                         14.76                 1.11  \n29522                          0.00                11.68  "
                    },
                    "execution_count": 31,
                    "metadata": {},
                    "output_type": "execute_result"
                }
            ],
            "source": "ham_df.tail(10)"
        },
        {
            "cell_type": "code",
            "execution_count": 32,
            "metadata": {},
            "outputs": [
                {
                    "data": {
                        "text/plain": "fuel_unit\nbbl        7998\ngal          84\ngramsU      464\nkgU         110\nmcf       11354\nmmbtu       180\nmwdth        95\nmwhth       100\nton        8958\nName: fuel_unit, dtype: int64"
                    },
                    "execution_count": 32,
                    "metadata": {},
                    "output_type": "execute_result"
                }
            ],
            "source": "ham_df.groupby('fuel_unit')['fuel_unit'].count()"
        },
        {
            "cell_type": "code",
            "execution_count": 33,
            "metadata": {},
            "outputs": [],
            "source": "ham_df[['fuel_unit']] = ham_df[['fuel_unit']].fillna(value = 'mcf')"
        },
        {
            "cell_type": "code",
            "execution_count": 34,
            "metadata": {},
            "outputs": [
                {
                    "data": {
                        "text/plain": "record_id                       0\nutility_id_ferc1                0\nreport_year                     0\nplant_name_ferc1                0\nfuel_type_code_pudl             0\nfuel_unit                       0\nfuel_qty_burned                 0\nfuel_mmbtu_per_unit             0\nfuel_cost_per_unit_burned       0\nfuel_cost_per_unit_delivered    0\nfuel_cost_per_mmbtu             0\ndtype: int64"
                    },
                    "execution_count": 34,
                    "metadata": {},
                    "output_type": "execute_result"
                }
            ],
            "source": "ham_df.isnull().sum()"
        },
        {
            "cell_type": "code",
            "execution_count": 35,
            "metadata": {},
            "outputs": [
                {
                    "data": {
                        "text/plain": "report_year\n1994    1235\n1995    1201\n1996    1088\n1997    1094\n1998    1107\n1999    1050\n2000    1373\n2001    1356\n2002    1205\n2003    1211\n2004    1192\n2005    1269\n2006    1243\n2007    1264\n2008    1228\n2009    1222\n2010    1261\n2011    1240\n2012    1243\n2013    1199\n2014    1171\n2015    1093\n2016    1034\n2017     993\n2018     951\nName: report_year, dtype: int64"
                    },
                    "execution_count": 35,
                    "metadata": {},
                    "output_type": "execute_result"
                }
            ],
            "source": "ham_df.groupby('report_year')['report_year'].count()"
        },
        {
            "cell_type": "code",
            "execution_count": 36,
            "metadata": {},
            "outputs": [
                {
                    "data": {
                        "text/plain": "fuel_type_code_pudl\ncoal         67.421830\ngas          13.659397\nnuclear    4955.157002\noil         168.877086\nother        18.253856\nwaste        19.518122\nName: fuel_cost_per_unit_burned, dtype: float64"
                    },
                    "execution_count": 36,
                    "metadata": {},
                    "output_type": "execute_result"
                }
            ],
            "source": "ham_df.groupby('fuel_type_code_pudl')['fuel_cost_per_unit_burned'].mean()"
        },
        {
            "cell_type": "code",
            "execution_count": 37,
            "metadata": {},
            "outputs": [
                {
                    "data": {
                        "text/plain": "utility_id_ferc1                  0.605070\nreport_year                       0.006953\nfuel_qty_burned                  15.851495\nfuel_mmbtu_per_unit               4.135217\nfuel_cost_per_unit_burned        19.787440\nfuel_cost_per_unit_delivered    105.014227\nfuel_cost_per_mmbtu             171.675535\ndtype: float64"
                    },
                    "execution_count": 37,
                    "metadata": {},
                    "output_type": "execute_result"
                }
            ],
            "source": "ham_df.skew()"
        },
        {
            "cell_type": "code",
            "execution_count": 38,
            "metadata": {},
            "outputs": [
                {
                    "data": {
                        "text/plain": "utility_id_ferc1                    1.088432\nreport_year                        -1.145656\nfuel_qty_burned                   651.369450\nfuel_mmbtu_per_unit                55.595695\nfuel_cost_per_unit_burned         485.255851\nfuel_cost_per_unit_delivered    11765.054226\nfuel_cost_per_mmbtu             29489.132594\ndtype: float64"
                    },
                    "execution_count": 38,
                    "metadata": {},
                    "output_type": "execute_result"
                }
            ],
            "source": "ham_df.kurt()"
        },
        {
            "cell_type": "code",
            "execution_count": 39,
            "metadata": {},
            "outputs": [
                {
                    "data": {
                        "text/html": "<div>\n<style scoped>\n    .dataframe tbody tr th:only-of-type {\n        vertical-align: middle;\n    }\n\n    .dataframe tbody tr th {\n        vertical-align: top;\n    }\n\n    .dataframe thead th {\n        text-align: right;\n    }\n</style>\n<table border=\"1\" class=\"dataframe\">\n  <thead>\n    <tr style=\"text-align: right;\">\n      <th></th>\n      <th>utility_id_ferc1</th>\n      <th>report_year</th>\n      <th>fuel_qty_burned</th>\n      <th>fuel_mmbtu_per_unit</th>\n      <th>fuel_cost_per_unit_burned</th>\n      <th>fuel_cost_per_unit_delivered</th>\n      <th>fuel_cost_per_mmbtu</th>\n    </tr>\n  </thead>\n  <tbody>\n    <tr>\n      <th>utility_id_ferc1</th>\n      <td>1.000000</td>\n      <td>0.093323</td>\n      <td>-0.057447</td>\n      <td>-0.066946</td>\n      <td>-0.037863</td>\n      <td>-0.016414</td>\n      <td>0.006122</td>\n    </tr>\n    <tr>\n      <th>report_year</th>\n      <td>0.093323</td>\n      <td>1.000000</td>\n      <td>0.012952</td>\n      <td>-0.110853</td>\n      <td>0.013599</td>\n      <td>-0.014043</td>\n      <td>0.010261</td>\n    </tr>\n    <tr>\n      <th>fuel_qty_burned</th>\n      <td>-0.057447</td>\n      <td>0.012952</td>\n      <td>1.000000</td>\n      <td>-0.080946</td>\n      <td>-0.018535</td>\n      <td>-0.003551</td>\n      <td>-0.001896</td>\n    </tr>\n    <tr>\n      <th>fuel_mmbtu_per_unit</th>\n      <td>-0.066946</td>\n      <td>-0.110853</td>\n      <td>-0.080946</td>\n      <td>1.000000</td>\n      <td>-0.010034</td>\n      <td>-0.009039</td>\n      <td>-0.005884</td>\n    </tr>\n    <tr>\n      <th>fuel_cost_per_unit_burned</th>\n      <td>-0.037863</td>\n      <td>0.013599</td>\n      <td>-0.018535</td>\n      <td>-0.010034</td>\n      <td>1.000000</td>\n      <td>0.011007</td>\n      <td>-0.000437</td>\n    </tr>\n    <tr>\n      <th>fuel_cost_per_unit_delivered</th>\n      <td>-0.016414</td>\n      <td>-0.014043</td>\n      <td>-0.003551</td>\n      <td>-0.009039</td>\n      <td>0.011007</td>\n      <td>1.000000</td>\n      <td>-0.000109</td>\n    </tr>\n    <tr>\n      <th>fuel_cost_per_mmbtu</th>\n      <td>0.006122</td>\n      <td>0.010261</td>\n      <td>-0.001896</td>\n      <td>-0.005884</td>\n      <td>-0.000437</td>\n      <td>-0.000109</td>\n      <td>1.000000</td>\n    </tr>\n  </tbody>\n</table>\n</div>",
                        "text/plain": "                              utility_id_ferc1  report_year  fuel_qty_burned  \\\nutility_id_ferc1                      1.000000     0.093323        -0.057447   \nreport_year                           0.093323     1.000000         0.012952   \nfuel_qty_burned                      -0.057447     0.012952         1.000000   \nfuel_mmbtu_per_unit                  -0.066946    -0.110853        -0.080946   \nfuel_cost_per_unit_burned            -0.037863     0.013599        -0.018535   \nfuel_cost_per_unit_delivered         -0.016414    -0.014043        -0.003551   \nfuel_cost_per_mmbtu                   0.006122     0.010261        -0.001896   \n\n                              fuel_mmbtu_per_unit  fuel_cost_per_unit_burned  \\\nutility_id_ferc1                        -0.066946                  -0.037863   \nreport_year                             -0.110853                   0.013599   \nfuel_qty_burned                         -0.080946                  -0.018535   \nfuel_mmbtu_per_unit                      1.000000                  -0.010034   \nfuel_cost_per_unit_burned               -0.010034                   1.000000   \nfuel_cost_per_unit_delivered            -0.009039                   0.011007   \nfuel_cost_per_mmbtu                     -0.005884                  -0.000437   \n\n                              fuel_cost_per_unit_delivered  \\\nutility_id_ferc1                                 -0.016414   \nreport_year                                      -0.014043   \nfuel_qty_burned                                  -0.003551   \nfuel_mmbtu_per_unit                              -0.009039   \nfuel_cost_per_unit_burned                         0.011007   \nfuel_cost_per_unit_delivered                      1.000000   \nfuel_cost_per_mmbtu                              -0.000109   \n\n                              fuel_cost_per_mmbtu  \nutility_id_ferc1                         0.006122  \nreport_year                              0.010261  \nfuel_qty_burned                         -0.001896  \nfuel_mmbtu_per_unit                     -0.005884  \nfuel_cost_per_unit_burned               -0.000437  \nfuel_cost_per_unit_delivered            -0.000109  \nfuel_cost_per_mmbtu                      1.000000  "
                    },
                    "execution_count": 39,
                    "metadata": {},
                    "output_type": "execute_result"
                }
            ],
            "source": "ham_df.corr()"
        },
        {
            "cell_type": "code",
            "execution_count": 40,
            "metadata": {},
            "outputs": [
                {
                    "ename": "SyntaxError",
                    "evalue": "invalid syntax (<ipython-input-40-af669326a76f>, line 1)",
                    "output_type": "error",
                    "traceback": [
                        "\u001b[0;36m  File \u001b[0;32m\"<ipython-input-40-af669326a76f>\"\u001b[0;36m, line \u001b[0;32m1\u001b[0m\n\u001b[0;31m    ham_df[['fuel_cost_per_unit_burned','report_year']].loc[]\u001b[0m\n\u001b[0m                                                            ^\u001b[0m\n\u001b[0;31mSyntaxError\u001b[0m\u001b[0;31m:\u001b[0m invalid syntax\n"
                    ]
                }
            ],
            "source": "ham_df[['fuel_cost_per_unit_burned','report_year']].loc[]"
        },
        {
            "cell_type": "code",
            "execution_count": 41,
            "metadata": {},
            "outputs": [
                {
                    "data": {
                        "text/plain": "report_year\n1994       63.636060\n1995       32.735269\n1996     9196.705948\n1997    11140.197239\n1998      287.154420\n1999       25.551627\n2000      985.362877\n2001       60.050396\n2002       47.594361\n2003       55.663493\n2004      139.524275\n2005       41.438184\n2006       38.657484\n2007       43.325023\n2008       58.588197\n2009      652.694163\n2010       91.862105\n2011       59.774667\n2012       60.994502\n2013      172.307591\n2014      192.737183\n2015      326.535511\n2016      103.901761\n2017       46.196861\n2018      499.269966\nName: fuel_cost_per_unit_delivered, dtype: float64"
                    },
                    "execution_count": 41,
                    "metadata": {},
                    "output_type": "execute_result"
                }
            ],
            "source": "ham_df.groupby('report_year')['fuel_cost_per_unit_delivered'].mean()"
        },
        {
            "cell_type": "code",
            "execution_count": 52,
            "metadata": {},
            "outputs": [
                {
                    "data": {
                        "text/html": "<div>\n<style scoped>\n    .dataframe tbody tr th:only-of-type {\n        vertical-align: middle;\n    }\n\n    .dataframe tbody tr th {\n        vertical-align: top;\n    }\n\n    .dataframe thead th {\n        text-align: right;\n    }\n</style>\n<table border=\"1\" class=\"dataframe\">\n  <thead>\n    <tr style=\"text-align: right;\">\n      <th></th>\n      <th></th>\n      <th>fuel_cost_per_unit_burned</th>\n    </tr>\n    <tr>\n      <th>fuel_type_code_pudl</th>\n      <th>report_year</th>\n      <th></th>\n    </tr>\n  </thead>\n  <tbody>\n    <tr>\n      <th rowspan=\"25\" valign=\"top\">coal</th>\n      <th>1994</th>\n      <td>475</td>\n    </tr>\n    <tr>\n      <th>1995</th>\n      <td>475</td>\n    </tr>\n    <tr>\n      <th>1996</th>\n      <td>431</td>\n    </tr>\n    <tr>\n      <th>1997</th>\n      <td>417</td>\n    </tr>\n    <tr>\n      <th>1998</th>\n      <td>431</td>\n    </tr>\n    <tr>\n      <th>1999</th>\n      <td>425</td>\n    </tr>\n    <tr>\n      <th>2000</th>\n      <td>403</td>\n    </tr>\n    <tr>\n      <th>2001</th>\n      <td>363</td>\n    </tr>\n    <tr>\n      <th>2002</th>\n      <td>332</td>\n    </tr>\n    <tr>\n      <th>2003</th>\n      <td>329</td>\n    </tr>\n    <tr>\n      <th>2004</th>\n      <td>322</td>\n    </tr>\n    <tr>\n      <th>2005</th>\n      <td>324</td>\n    </tr>\n    <tr>\n      <th>2006</th>\n      <td>327</td>\n    </tr>\n    <tr>\n      <th>2007</th>\n      <td>330</td>\n    </tr>\n    <tr>\n      <th>2008</th>\n      <td>322</td>\n    </tr>\n    <tr>\n      <th>2009</th>\n      <td>319</td>\n    </tr>\n    <tr>\n      <th>2010</th>\n      <td>316</td>\n    </tr>\n    <tr>\n      <th>2011</th>\n      <td>323</td>\n    </tr>\n    <tr>\n      <th>2012</th>\n      <td>327</td>\n    </tr>\n    <tr>\n      <th>2013</th>\n      <td>320</td>\n    </tr>\n    <tr>\n      <th>2014</th>\n      <td>295</td>\n    </tr>\n    <tr>\n      <th>2015</th>\n      <td>268</td>\n    </tr>\n    <tr>\n      <th>2016</th>\n      <td>239</td>\n    </tr>\n    <tr>\n      <th>2017</th>\n      <td>223</td>\n    </tr>\n    <tr>\n      <th>2018</th>\n      <td>211</td>\n    </tr>\n    <tr>\n      <th rowspan=\"5\" valign=\"top\">gas</th>\n      <th>1994</th>\n      <td>487</td>\n    </tr>\n    <tr>\n      <th>1995</th>\n      <td>503</td>\n    </tr>\n    <tr>\n      <th>1996</th>\n      <td>426</td>\n    </tr>\n    <tr>\n      <th>1997</th>\n      <td>448</td>\n    </tr>\n    <tr>\n      <th>1998</th>\n      <td>515</td>\n    </tr>\n    <tr>\n      <th>...</th>\n      <th>...</th>\n      <td>...</td>\n    </tr>\n    <tr>\n      <th rowspan=\"5\" valign=\"top\">other</th>\n      <th>2012</th>\n      <td>4</td>\n    </tr>\n    <tr>\n      <th>2013</th>\n      <td>3</td>\n    </tr>\n    <tr>\n      <th>2014</th>\n      <td>1</td>\n    </tr>\n    <tr>\n      <th>2015</th>\n      <td>1</td>\n    </tr>\n    <tr>\n      <th>2016</th>\n      <td>1</td>\n    </tr>\n    <tr>\n      <th rowspan=\"25\" valign=\"top\">waste</th>\n      <th>1994</th>\n      <td>24</td>\n    </tr>\n    <tr>\n      <th>1995</th>\n      <td>22</td>\n    </tr>\n    <tr>\n      <th>1996</th>\n      <td>22</td>\n    </tr>\n    <tr>\n      <th>1997</th>\n      <td>23</td>\n    </tr>\n    <tr>\n      <th>1998</th>\n      <td>20</td>\n    </tr>\n    <tr>\n      <th>1999</th>\n      <td>14</td>\n    </tr>\n    <tr>\n      <th>2000</th>\n      <td>14</td>\n    </tr>\n    <tr>\n      <th>2001</th>\n      <td>15</td>\n    </tr>\n    <tr>\n      <th>2002</th>\n      <td>15</td>\n    </tr>\n    <tr>\n      <th>2003</th>\n      <td>12</td>\n    </tr>\n    <tr>\n      <th>2004</th>\n      <td>15</td>\n    </tr>\n    <tr>\n      <th>2005</th>\n      <td>14</td>\n    </tr>\n    <tr>\n      <th>2006</th>\n      <td>18</td>\n    </tr>\n    <tr>\n      <th>2007</th>\n      <td>17</td>\n    </tr>\n    <tr>\n      <th>2008</th>\n      <td>16</td>\n    </tr>\n    <tr>\n      <th>2009</th>\n      <td>21</td>\n    </tr>\n    <tr>\n      <th>2010</th>\n      <td>19</td>\n    </tr>\n    <tr>\n      <th>2011</th>\n      <td>18</td>\n    </tr>\n    <tr>\n      <th>2012</th>\n      <td>17</td>\n    </tr>\n    <tr>\n      <th>2013</th>\n      <td>21</td>\n    </tr>\n    <tr>\n      <th>2014</th>\n      <td>18</td>\n    </tr>\n    <tr>\n      <th>2015</th>\n      <td>18</td>\n    </tr>\n    <tr>\n      <th>2016</th>\n      <td>17</td>\n    </tr>\n    <tr>\n      <th>2017</th>\n      <td>15</td>\n    </tr>\n    <tr>\n      <th>2018</th>\n      <td>16</td>\n    </tr>\n  </tbody>\n</table>\n<p>148 rows \u00d7 1 columns</p>\n</div>",
                        "text/plain": "                                 fuel_cost_per_unit_burned\nfuel_type_code_pudl report_year                           \ncoal                1994                               475\n                    1995                               475\n                    1996                               431\n                    1997                               417\n                    1998                               431\n                    1999                               425\n                    2000                               403\n                    2001                               363\n                    2002                               332\n                    2003                               329\n                    2004                               322\n                    2005                               324\n                    2006                               327\n                    2007                               330\n                    2008                               322\n                    2009                               319\n                    2010                               316\n                    2011                               323\n                    2012                               327\n                    2013                               320\n                    2014                               295\n                    2015                               268\n                    2016                               239\n                    2017                               223\n                    2018                               211\ngas                 1994                               487\n                    1995                               503\n                    1996                               426\n                    1997                               448\n                    1998                               515\n...                                                    ...\nother               2012                                 4\n                    2013                                 3\n                    2014                                 1\n                    2015                                 1\n                    2016                                 1\nwaste               1994                                24\n                    1995                                22\n                    1996                                22\n                    1997                                23\n                    1998                                20\n                    1999                                14\n                    2000                                14\n                    2001                                15\n                    2002                                15\n                    2003                                12\n                    2004                                15\n                    2005                                14\n                    2006                                18\n                    2007                                17\n                    2008                                16\n                    2009                                21\n                    2010                                19\n                    2011                                18\n                    2012                                17\n                    2013                                21\n                    2014                                18\n                    2015                                18\n                    2016                                17\n                    2017                                15\n                    2018                                16\n\n[148 rows x 1 columns]"
                    },
                    "execution_count": 52,
                    "metadata": {},
                    "output_type": "execute_result"
                }
            ],
            "source": "ham_df.groupby(['fuel_type_code_pudl', 'report_year'])[['fuel_cost_per_unit_burned']].count()"
        },
        {
            "cell_type": "code",
            "execution_count": null,
            "metadata": {},
            "outputs": [],
            "source": ""
        }
    ],
    "metadata": {
        "kernelspec": {
            "display_name": "Python 3.6",
            "language": "python",
            "name": "python3"
        },
        "language_info": {
            "codemirror_mode": {
                "name": "ipython",
                "version": 3
            },
            "file_extension": ".py",
            "mimetype": "text/x-python",
            "name": "python",
            "nbconvert_exporter": "python",
            "pygments_lexer": "ipython3",
            "version": "3.6.9"
        }
    },
    "nbformat": 4,
    "nbformat_minor": 1
}